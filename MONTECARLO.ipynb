{
 "cells": [
  {
   "cell_type": "code",
   "execution_count": 1,
   "metadata": {},
   "outputs": [],
   "source": [
    "import pandas as pd\n",
    "import numpy as np\n",
    "import random\n",
    "import matplotlib.pyplot as plt\n",
    "from datetime import time\n"
   ]
  },
  {
   "cell_type": "markdown",
   "metadata": {},
   "source": [
    "# CLASES"
   ]
  },
  {
   "cell_type": "code",
   "execution_count": 2,
   "metadata": {},
   "outputs": [],
   "source": [
    "#variables locales\n",
    "\n",
    "rango_horas = [7,18]\n",
    "num_productos = 3\n",
    "rango_cantidad = [50, 601, 50]\n"
   ]
  },
  {
   "cell_type": "markdown",
   "metadata": {},
   "source": [
    "## PEDIDO"
   ]
  },
  {
   "cell_type": "code",
   "execution_count": 3,
   "metadata": {},
   "outputs": [],
   "source": [
    "class Pedido:\n",
    "    def __init__(self, id, producto, cantidad, hora_pedido):\n",
    "        self.id = id\n",
    "        self.producto = producto\n",
    "        self.cantidad = cantidad\n",
    "        self.hora_pedido = hora_pedido\n",
    "\n",
    "    def __str__(self):\n",
    "        return f\"Pedido {self.id}: {self.producto} ({self.cantidad} unidades) a las {self.hora_pedido} horas.\"\n",
    "        "
   ]
  },
  {
   "cell_type": "code",
   "execution_count": 4,
   "metadata": {},
   "outputs": [],
   "source": [
    "class Trabajo:\n",
    "    def __init__(self, id, cantidad_elementos):\n",
    "        self.id = id #int\n",
    "        self.cantidad_elementos = cantidad_elementos #int"
   ]
  },
  {
   "cell_type": "code",
   "execution_count": 5,
   "metadata": {},
   "outputs": [
    {
     "name": "stdout",
     "output_type": "stream",
     "text": [
      "Pedido 1: 2 (3 unidades) a las 4 horas.\n"
     ]
    }
   ],
   "source": [
    "print(Pedido(1,2,3,4))"
   ]
  },
  {
   "cell_type": "code",
   "execution_count": 7,
   "metadata": {},
   "outputs": [],
   "source": [
    "class GestorPedidos:\n",
    "    #lista de objetos Pedido\n",
    "    def __init__(self, pedidos):\n",
    "        self.pedidos_originales = pedidos \n",
    "        self.pedidos = pedidos\n",
    "        self.next_id = max(pedido.id for pedido in pedidos) + 1 #Id para el siguiente pedido\n",
    "\n",
    "    def agregar_pedidos(self, lam=2):\n",
    "\n",
    "        # Agregar ´pedidos a la lista con una distribición de poisson\n",
    "\n",
    "        n_nuevos = np.random.poisson(lam) #Numero de pedidos nuevos\n",
    "        nuevos_pedidos = [] #lista con nuevos pedidos (contiene objetos de la clase Pedido)\n",
    "\n",
    "        for _ in range(n_nuevos):\n",
    "            producto = random.randint(1,num_productos)\n",
    "            cantidad = random.randrange(*rango_cantidad)\n",
    "            hora = time(np.random.randint(*rango_horas))\n",
    "            nuevo_pedido = Pedido(self.next_id, producto, cantidad, hora)\n",
    "            self.pedidos.append(nuevo_pedido)\n",
    "            nuevos_pedidos.append(nuevo_pedido)\n",
    "            self.next_id += 1\n",
    "        \n",
    "        return nuevos_pedidos\n",
    "\n",
    "    def eliminar_pedidos(self, prob = 0.1):\n",
    "\n",
    "        #eliminar pedidos con una pribabiulidad uniforme de 0.1\n",
    "\n",
    "        num_pedidos_iniciales = len(self.pedidos)\n",
    "\n",
    "        id_pedidos_eliminados = [] #lista con los ids de los pedidos eliminados\n",
    "\n",
    "        pedidos_nuevos = [] # reinicio lista de pedidos\n",
    "\n",
    "        for pedido in self.pedidos:\n",
    "            if random.uniform(0,1) > prob: pedidos_nuevos.append(pedido)\n",
    "            else: id_pedidos_eliminados.append(pedido.id)       \n",
    "\n",
    "        self.pedidos =  pedidos_nuevos\n",
    "        \n",
    "        num_pedidos_eliminados = num_pedidos_iniciales - len(self.pedidos)\n",
    "\n",
    "        return id_pedidos_eliminados\n",
    "        \n",
    "    def simular_cambio(self, lam=2, prob=0.1):\n",
    "\n",
    "        #simular una iteración en la que la lista de pedidos puede ser modificada al agregar o quitar pediodos con su respectiva dist. probabilidad\n",
    "\n",
    "        eliminados = self.eliminar_pedidos(prob=prob)\n",
    "        agregados = self.agregar_pedidos(lam=lam)\n",
    "        \n",
    "\n",
    "        return {\"agregados\": agregados, \"eliminados\": eliminados}\n",
    "\n",
    "\n",
    "    def mostrar_pedidos(self):\n",
    "        \"\"\"\n",
    "        Muestra la lista actual de pedidos.\n",
    "        \"\"\"\n",
    "        for pedido in self.pedidos:\n",
    "            print(pedido)\n",
    "\n",
    "\n",
    "    def to_dataframe(self):\n",
    "        \"\"\"\n",
    "        Exporta la lista actual de pedidos a un DataFrame de pandas.\n",
    "        \"\"\"\n",
    "        data = [{\n",
    "            \"id_pedido\": pedido.id,\n",
    "            \"producto\": pedido.producto,\n",
    "            \"cantidad\": pedido.cantidad,\n",
    "            \"hora_pedido\": pedido.hora_pedido\n",
    "        } for pedido in self.pedidos]\n",
    "        return pd.DataFrame(data)\n",
    "\n"
   ]
  },
  {
   "cell_type": "code",
   "execution_count": 105,
   "metadata": {},
   "outputs": [],
   "source": [
    "class Montecarlo():\n",
    "    def __init__(self, pedidos_iniciales, lam, prob, iteraciones):\n",
    "        self.pedidos_iniciales = pedidos_iniciales\n",
    "        self.lam = lam\n",
    "        self.prob = prob\n",
    "        self.iteraciones = iteraciones\n",
    "        self.data = {}\n",
    "        \n",
    "        \n",
    "    def Ejecutar(self):\n",
    "        #iteraciones\n",
    "\n",
    "        gestor_pedidos = GestorPedidos(self.pedidos_iniciales)\n",
    "\n",
    "        self.data = {}\n",
    "        self.altas = []\n",
    "        self.bajas = []\n",
    "        self.total = []\n",
    "\n",
    "        for i in range(self.iteraciones):\n",
    "            gestor_pedidos = GestorPedidos(self.pedidos_iniciales)\n",
    "\n",
    "            modificaciones = gestor_pedidos.simular_cambio(self.lam, self.prob)\n",
    "            num_altas = len(modificaciones['agregados'])\n",
    "            num_bajas = len(modificaciones['eliminados'])\n",
    "                            \n",
    "            self.data[i] = {'Altas':num_altas, 'Bajas':num_bajas, 'Total': num_altas-num_bajas }\n",
    "\n",
    "        self.altas = [v['Altas'] for v in self.data.values()]\n",
    "        self.bajas = [v['Bajas'] for v in self.data.values()]\n",
    "        self.totales= [v['Total'] for v in self.data.values()]\n",
    "            \n",
    "        \n",
    "        print(f'{self.iteraciones} iteraciones completadas')\n",
    "        \n",
    "        self.MostrarDistribuciones()\n",
    "        self.Estadisticas()\n",
    "    \n",
    "    def MostrarDistribuciones(self):\n",
    "        max_totales = max([abs(i) for i in self.totales])\n",
    "\n",
    "        # Crear histogramas\n",
    "        plt.figure(figsize=(15, 5))\n",
    "\n",
    "        plt.subplot(1, 3, 1)\n",
    "        plt.hist(self.altas, bins=max(self.altas), color='skyblue', alpha=0.7, edgecolor='black')\n",
    "        plt.title('Distribución de Altas')\n",
    "        plt.xlabel('Cantidad de Altas')\n",
    "        plt.ylabel('Frecuencia')\n",
    "\n",
    "        plt.subplot(1, 3, 2)\n",
    "        plt.hist(self.bajas, bins=max(self.bajas), color='salmon', alpha=0.7, edgecolor='black')\n",
    "        plt.title('Distribución de Bajas')\n",
    "        plt.xlabel('Cantidad de Bajas')\n",
    "\n",
    "        plt.subplot(1, 3, 3)\n",
    "        plt.hist(self.totales, bins=max_totales*2, color='lightgreen', alpha=0.7, edgecolor='black')\n",
    "        plt.title('Distribución del Total')\n",
    "        plt.xlabel('Valor Total')\n",
    "\n",
    "        plt.tight_layout()\n",
    "        plt.show()\n",
    "    \n",
    "    def Estadisticas(self):\n",
    "        media_altas = np.mean(self.altas)\n",
    "        media_bajas = np.mean(self.bajas)\n",
    "        media_total = np.mean(self.totales)\n",
    "\n",
    "        info = {'Media Altas': media_altas,\n",
    "                'Media Bajas': media_bajas,\n",
    "                'Media Total': media_total}\n",
    "        \n",
    "        print(info)\n",
    "\n",
    "        return info"
   ]
  },
  {
   "cell_type": "markdown",
   "metadata": {},
   "source": [
    "# IMPLEMENTACIÓN"
   ]
  },
  {
   "cell_type": "code",
   "execution_count": 106,
   "metadata": {},
   "outputs": [
    {
     "data": {
      "text/html": [
       "<div>\n",
       "<style scoped>\n",
       "    .dataframe tbody tr th:only-of-type {\n",
       "        vertical-align: middle;\n",
       "    }\n",
       "\n",
       "    .dataframe tbody tr th {\n",
       "        vertical-align: top;\n",
       "    }\n",
       "\n",
       "    .dataframe thead th {\n",
       "        text-align: right;\n",
       "    }\n",
       "</style>\n",
       "<table border=\"1\" class=\"dataframe\">\n",
       "  <thead>\n",
       "    <tr style=\"text-align: right;\">\n",
       "      <th></th>\n",
       "      <th>Producto</th>\n",
       "      <th>Cantidad</th>\n",
       "      <th>Hora pedido</th>\n",
       "    </tr>\n",
       "    <tr>\n",
       "      <th>id_pedido</th>\n",
       "      <th></th>\n",
       "      <th></th>\n",
       "      <th></th>\n",
       "    </tr>\n",
       "  </thead>\n",
       "  <tbody>\n",
       "    <tr>\n",
       "      <th>1</th>\n",
       "      <td>1</td>\n",
       "      <td>300</td>\n",
       "      <td>07:00:00</td>\n",
       "    </tr>\n",
       "    <tr>\n",
       "      <th>2</th>\n",
       "      <td>1</td>\n",
       "      <td>400</td>\n",
       "      <td>09:00:00</td>\n",
       "    </tr>\n",
       "    <tr>\n",
       "      <th>3</th>\n",
       "      <td>3</td>\n",
       "      <td>600</td>\n",
       "      <td>07:00:00</td>\n",
       "    </tr>\n",
       "    <tr>\n",
       "      <th>4</th>\n",
       "      <td>2</td>\n",
       "      <td>400</td>\n",
       "      <td>07:00:00</td>\n",
       "    </tr>\n",
       "    <tr>\n",
       "      <th>5</th>\n",
       "      <td>1</td>\n",
       "      <td>600</td>\n",
       "      <td>13:00:00</td>\n",
       "    </tr>\n",
       "    <tr>\n",
       "      <th>6</th>\n",
       "      <td>1</td>\n",
       "      <td>300</td>\n",
       "      <td>14:00:00</td>\n",
       "    </tr>\n",
       "    <tr>\n",
       "      <th>7</th>\n",
       "      <td>2</td>\n",
       "      <td>400</td>\n",
       "      <td>11:00:00</td>\n",
       "    </tr>\n",
       "    <tr>\n",
       "      <th>8</th>\n",
       "      <td>3</td>\n",
       "      <td>200</td>\n",
       "      <td>09:00:00</td>\n",
       "    </tr>\n",
       "  </tbody>\n",
       "</table>\n",
       "</div>"
      ],
      "text/plain": [
       "           Producto  Cantidad Hora pedido\n",
       "id_pedido                                \n",
       "1                 1       300    07:00:00\n",
       "2                 1       400    09:00:00\n",
       "3                 3       600    07:00:00\n",
       "4                 2       400    07:00:00\n",
       "5                 1       600    13:00:00\n",
       "6                 1       300    14:00:00\n",
       "7                 2       400    11:00:00\n",
       "8                 3       200    09:00:00"
      ]
     },
     "execution_count": 106,
     "metadata": {},
     "output_type": "execute_result"
    }
   ],
   "source": [
    "# DataFrame con pedidos iniciales\n",
    "df_pedidos = pd.read_csv('pedidos.csv')\n",
    "df_pedidos = df_pedidos.set_index('id_pedido')\n",
    "df_pedidos['Hora pedido'] = pd.to_datetime(df_pedidos['Hora pedido'], format='%H:%M').dt.time\n",
    "\n",
    "df_pedidos"
   ]
  },
  {
   "cell_type": "code",
   "execution_count": 107,
   "metadata": {},
   "outputs": [],
   "source": [
    "# Convertir el DataFrame en una lista de objetos Pedido\n",
    "pedidos_iniciales = [\n",
    "    Pedido(row.name, row['Producto'], row['Cantidad'], row['Hora pedido'])\n",
    "    for i, row in df_pedidos.iterrows()\n",
    "]\n",
    "\n",
    "lam = 3\n",
    "prob_baja = 0.2\n",
    "iteraciones = 1000"
   ]
  },
  {
   "cell_type": "code",
   "execution_count": 108,
   "metadata": {},
   "outputs": [
    {
     "name": "stdout",
     "output_type": "stream",
     "text": [
      "1000 iteraciones completadas\n"
     ]
    },
    {
     "data": {
      "image/png": "[encoded data removed]",
      "text/plain": [
       "<Figure size 1500x500 with 3 Axes>"
      ]
     },
     "metadata": {},
     "output_type": "display_data"
    },
    {
     "name": "stdout",
     "output_type": "stream",
     "text": [
      "{'Media Altas': 3.045, 'Media Bajas': 1.619, 'Media Total': 1.426}\n"
     ]
    }
   ],
   "source": [
    "simualacion = Montecarlo(pedidos_iniciales, lam, prob_baja, iteraciones) #creo objeto montecarlo\n",
    "simualacion.Ejecutar()"
   ]
  }
 ],
 "metadata": {
  "kernelspec": {
   "display_name": "tecmx",
   "language": "python",
   "name": "python3"
  },
  "language_info": {
   "codemirror_mode": {
    "name": "ipython",
    "version": 3
   },
   "file_extension": ".py",
   "mimetype": "text/x-python",
   "name": "python",
   "nbconvert_exporter": "python",
   "pygments_lexer": "ipython3",
   "version": "3.12.4"
  }
 },
 "nbformat": 4,
 "nbformat_minor": 2
}
